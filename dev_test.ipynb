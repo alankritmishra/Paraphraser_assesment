{
 "cells": [
  {
   "cell_type": "code",
   "execution_count": 1,
   "metadata": {},
   "outputs": [
    {
     "name": "stdout",
     "output_type": "stream",
     "text": [
      "c:\\Users\\tutoring\\repos\\WAT\\src\n"
     ]
    }
   ],
   "source": [
    "import sys\n",
    "import os\n",
    "\n",
    "newdir = os.path.abspath(os.path.join(os.path.dirname(\"__file__\"), './src'))\n",
    "sys.path.append(newdir)\n",
    "print(newdir)\n"
   ]
  },
  {
   "cell_type": "code",
   "execution_count": 2,
   "metadata": {},
   "outputs": [
    {
     "name": "stderr",
     "output_type": "stream",
     "text": [
      "08/04/2022 11:23:34 - INFO - happytransformer.happy_transformer -   Using model: cpu\n"
     ]
    }
   ],
   "source": [
    "import src\n",
    "wat = src.WAT()"
   ]
  },
  {
   "cell_type": "code",
   "execution_count": 3,
   "metadata": {},
   "outputs": [
    {
     "name": "stdout",
     "output_type": "stream",
     "text": [
      "-------------------------------- Analysis --------------------------------\n",
      "{'data': {'processed_text': \" The sopranos'mob is besieged by inner infidelity as much as by the **federal** government the most dangerous threat to **tony**'s **family** is his own biological **family** earlier in the series one of his closest associates turns witness for the fbi, his mother colludes with his uncle to contract a hit on **tony**, and his kids click through web sites that track the **federal** crackdown in **tony**'s gangland. \", 'top_four_words': {'federal': 2, 'tony': 3, 'family': 2}}}\n",
      "------------------------------------------------------------------------------------------------------------------------------------------------------------------------------------------------------\n",
      "\n",
      "\n",
      "-------------------------------- Parapharsing --------------------------------\n",
      "{'data': {'paraphrased': [\" The sopranos' mob is besieged by inner infidelity as much as by the federal government the most dangerous threat to tony's family is his own biological family earlier in the series one of his closest associates turns a witness for the fbi his mother colludes with his uncle's uncle.\"]}}\n",
      "----------------------------------------------------------------\n"
     ]
    }
   ],
   "source": [
    "print(\"-------------------------------- Analysis --------------------------------\")\n",
    "text = \"The sopranos' mob is besieged by inner infidelity as much as by the federal government the most dangerous threat to tony's family is his own biological family earlier in the series One of his closest associates turns witness for the FBI, his mother colludes with his uncle to contract a hit on Tony, and his kids click through Web sites that track the federal crackdown in Tony's gangland.\"\n",
    "result, top_four_words = wat.analyse(text)\n",
    "response = {'data': {'processed_text': result,\n",
    "                     'top_four_words': top_four_words}}\n",
    "print(response)\n",
    "print('------------------------------------------------------------------------------------------------------------------------------------------------------------------------------------------------------')\n",
    "\n",
    "print(\"\\n\")\n",
    "print(\"-------------------------------- Parapharsing --------------------------------\")\n",
    "paraphrase = wat.paraphrase_text(text)\n",
    "response = {'data': {'paraphrased': [paraphrase]}}\n",
    "print(response)\n",
    "print('----------------------------------------------------------------')\n"
   ]
  }
 ],
 "metadata": {
  "kernelspec": {
   "display_name": "Python 3.8.5 ('venv': venv)",
   "language": "python",
   "name": "python3"
  },
  "language_info": {
   "codemirror_mode": {
    "name": "ipython",
    "version": 3
   },
   "file_extension": ".py",
   "mimetype": "text/x-python",
   "name": "python",
   "nbconvert_exporter": "python",
   "pygments_lexer": "ipython3",
   "version": "3.8.5"
  },
  "orig_nbformat": 4,
  "vscode": {
   "interpreter": {
    "hash": "6ea01d57259121fd89544b2a224a73e04157c96d76db4843a18617589d14d8e7"
   }
  }
 },
 "nbformat": 4,
 "nbformat_minor": 2
}

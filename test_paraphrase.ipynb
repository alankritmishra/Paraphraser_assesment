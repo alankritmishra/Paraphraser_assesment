{
 "cells": [
  {
   "cell_type": "code",
   "execution_count": 5,
   "metadata": {},
   "outputs": [
    {
     "name": "stdout",
     "output_type": "stream",
     "text": [
      "c:\\Users\\tutoring\\repos\\WAT\\src\n"
     ]
    },
    {
     "name": "stderr",
     "output_type": "stream",
     "text": [
      "[nltk_data] Downloading package stopwords to\n",
      "[nltk_data]     C:\\Users\\tutoring\\AppData\\Roaming\\nltk_data...\n",
      "[nltk_data]   Package stopwords is already up-to-date!\n"
     ]
    },
    {
     "data": {
      "text/plain": [
       "True"
      ]
     },
     "execution_count": 5,
     "metadata": {},
     "output_type": "execute_result"
    }
   ],
   "source": [
    "\n",
    "import string\n",
    "import matplotlib.pyplot as plt\n",
    "import nltk\n",
    "import sys\n",
    "import os\n",
    "from nltk.corpus import stopwords\n",
    "newdir = os.path.abspath(os.path.join(os.path.dirname(\"__file__\"), './src'))\n",
    "print(newdir)\n",
    "sys.path.append(newdir)\n",
    "nltk.download(\"stopwords\")\n"
   ]
  },
  {
   "cell_type": "code",
   "execution_count": 11,
   "metadata": {},
   "outputs": [],
   "source": [
    "import src\n",
    "from src.paraphraser.parrot import Parrot\n",
    "from src.models import Model\n",
    "model = Model()\n",
    "parrot = Parrot(model)"
   ]
  },
  {
   "cell_type": "code",
   "execution_count": 12,
   "metadata": {},
   "outputs": [
    {
     "name": "stderr",
     "output_type": "stream",
     "text": [
      "08/04/2022 09:44:37 - INFO - happytransformer.happy_transformer -   Using model: cpu\n"
     ]
    }
   ],
   "source": [
    "#grammar corrector\n",
    "from happytransformer import TTSettings\n",
    "from happytransformer import HappyTextToText\n",
    "happy_tt = HappyTextToText(\"T5\", \"vennify/t5-base-grammar-correction\")\n",
    "beam_settings =  TTSettings(num_beams=5, min_length=1, max_length=100)"
   ]
  },
  {
   "cell_type": "code",
   "execution_count": 13,
   "metadata": {},
   "outputs": [],
   "source": [
    "sentences = [\n",
    "    \"This query has taken my invaluable time in the morning\",\n",
    "    \"The quick brown fox jumps over the lazy dog\",\n",
    "    \"He taught us how to catch errors and how not to write\",\n",
    "    \"He walked in crumbling tennis shoes and matched awkwardly like people used to in the seventies\",\n",
    "    \"The colors used in the comforter are loud and bright\"\n",
    "]"
   ]
  },
  {
   "cell_type": "code",
   "execution_count": 55,
   "metadata": {},
   "outputs": [],
   "source": [
    "def correct_grammar(sen):\n",
    "    correct_sen = happy_tt.generate_text(sen, args=beam_settings).text\n",
    "    return correct_sen"
   ]
  },
  {
   "cell_type": "code",
   "execution_count": 60,
   "metadata": {},
   "outputs": [
    {
     "name": "stdout",
     "output_type": "stream",
     "text": [
      "1: [['This question took my time in the morning.', 33], ['This question took up my precious time in the morning.', 33], ['This question took my precious time in the morning.', 32], ['This question took my valuable time in the morning.', 24], ['This question has taken my valuable time in the morning.', 19]]\n",
      "2: [['The swift brown fox jumps over the lazy dog.', 16], ['The quick brown fox leaps over the lazy dog.', 15], ['The quick brown fox jumps over the lazy dog.', 12]]\n",
      "3: [['He taught us to catch mistakes and how not to write.', 23], ['He taught us how to detect mistakes and how not to write.', 23], ['He taught us how to catch mistakes and not to write.', 23], ['He taught us how to catch errors and not write.', 19], ['He taught us how to catch errors and not to write.', 16], ['He taught us to catch errors and how not to write.', 16], ['He taught us how to catch errors and how not to write.', 12]]\n",
      "4: [[\"He walked in sloppy tennis shoes and met awkwardly the way people wore in the '70s.\", 48], ['He walked in rotten tennis shoes and fit awkwardly like people were used to in the 70s.', 38]]\n",
      "5: [['The colors in the comforter are loud and bright.', 17], ['The colours used in this comforter are loud and bright.', 15], ['The colors used in this comforter are loud and bright.', 14], ['The colors used in the comforter are loud and bright.', 12]]\n"
     ]
    }
   ],
   "source": [
    "for i, text in enumerate(sentences):\n",
    "    para_phrases = parrot.augment(input_phrase=text,\n",
    "                                  use_gpu=False,\n",
    "                                  diversity_ranker=\"levenshtein\",\n",
    "                                  do_diverse=False,\n",
    "                                  max_return_phrases=10,\n",
    "                                  max_length=32,\n",
    "                                  adequacy_threshold=0.23,\n",
    "                                  fluency_threshold=0.75)\n",
    "    para_phrases = [[correct_grammar(para_phrase[0]), para_phrase[1]]\n",
    "                    for para_phrase in para_phrases]\n",
    "    print(f\"{i + 1}:\", para_phrases)\n"
   ]
  }
 ],
 "metadata": {
  "kernelspec": {
   "display_name": "Python 3.8.5 ('venv': venv)",
   "language": "python",
   "name": "python3"
  },
  "language_info": {
   "codemirror_mode": {
    "name": "ipython",
    "version": 3
   },
   "file_extension": ".py",
   "mimetype": "text/x-python",
   "name": "python",
   "nbconvert_exporter": "python",
   "pygments_lexer": "ipython3",
   "version": "3.8.5"
  },
  "orig_nbformat": 4,
  "vscode": {
   "interpreter": {
    "hash": "6ea01d57259121fd89544b2a224a73e04157c96d76db4843a18617589d14d8e7"
   }
  }
 },
 "nbformat": 4,
 "nbformat_minor": 2
}

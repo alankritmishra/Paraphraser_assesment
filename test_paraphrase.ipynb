{
 "cells": [
  {
   "cell_type": "code",
   "execution_count": 3,
   "metadata": {},
   "outputs": [
    {
     "name": "stdout",
     "output_type": "stream",
     "text": [
      "/Users/gauravrai/Desktop/SSC/WAT/src\n"
     ]
    }
   ],
   "source": [
    "\n",
    "import string\n",
    "import matplotlib.pyplot as plt\n",
    "import nltk\n",
    "import sys\n",
    "import os\n",
    "import regex as re\n",
    "import itertools\n",
    "# from nltk.corpus import stopwords\n",
    "newdir = os.path.abspath(os.path.join(os.path.dirname(\"__file__\"), './src'))\n",
    "print(newdir)\n",
    "sys.path.append(newdir)\n",
    "# nltk.download(\"stopwords\")\n"
   ]
  },
  {
   "cell_type": "code",
   "execution_count": 4,
   "metadata": {},
   "outputs": [],
   "source": [
    "rgx = re.compile(\"([\\w][\\w']*\\w)\")\n",
    "s = \"Especially in light of physical, mental, social, psychological, emotional, and family changes, the teenager is forced to deal with a number of conflicts as a result of the numerous inquiries, contradicting demands, and ideas that he is presented with. If these changes are detrimental, the adolescent will be unable to successfully form his identity and will also experience a number of other issues, such as social role disorder, identity confusion, or the adoption of a negative identity, which will negatively affect the adolescent's life and future.\"\n",
    "words = rgx.findall(s)"
   ]
  },
  {
   "cell_type": "code",
   "execution_count": 5,
   "metadata": {},
   "outputs": [],
   "source": [
    "res = list(map(list, zip(words, words[1:], words[2:], words[3:])))"
   ]
  },
  {
   "cell_type": "code",
   "execution_count": 6,
   "metadata": {},
   "outputs": [
    {
     "data": {
      "text/plain": [
       "[['Especially', 'in', 'light', 'of'],\n",
       " ['in', 'light', 'of', 'physical'],\n",
       " ['light', 'of', 'physical', 'mental'],\n",
       " ['of', 'physical', 'mental', 'social'],\n",
       " ['physical', 'mental', 'social', 'psychological'],\n",
       " ['mental', 'social', 'psychological', 'emotional'],\n",
       " ['social', 'psychological', 'emotional', 'and'],\n",
       " ['psychological', 'emotional', 'and', 'family'],\n",
       " ['emotional', 'and', 'family', 'changes'],\n",
       " ['and', 'family', 'changes', 'the'],\n",
       " ['family', 'changes', 'the', 'teenager'],\n",
       " ['changes', 'the', 'teenager', 'is'],\n",
       " ['the', 'teenager', 'is', 'forced'],\n",
       " ['teenager', 'is', 'forced', 'to'],\n",
       " ['is', 'forced', 'to', 'deal'],\n",
       " ['forced', 'to', 'deal', 'with'],\n",
       " ['to', 'deal', 'with', 'number'],\n",
       " ['deal', 'with', 'number', 'of'],\n",
       " ['with', 'number', 'of', 'conflicts'],\n",
       " ['number', 'of', 'conflicts', 'as'],\n",
       " ['of', 'conflicts', 'as', 'result'],\n",
       " ['conflicts', 'as', 'result', 'of'],\n",
       " ['as', 'result', 'of', 'the'],\n",
       " ['result', 'of', 'the', 'numerous'],\n",
       " ['of', 'the', 'numerous', 'inquiries'],\n",
       " ['the', 'numerous', 'inquiries', 'contradicting'],\n",
       " ['numerous', 'inquiries', 'contradicting', 'demands'],\n",
       " ['inquiries', 'contradicting', 'demands', 'and'],\n",
       " ['contradicting', 'demands', 'and', 'ideas'],\n",
       " ['demands', 'and', 'ideas', 'that'],\n",
       " ['and', 'ideas', 'that', 'he'],\n",
       " ['ideas', 'that', 'he', 'is'],\n",
       " ['that', 'he', 'is', 'presented'],\n",
       " ['he', 'is', 'presented', 'with'],\n",
       " ['is', 'presented', 'with', 'If'],\n",
       " ['presented', 'with', 'If', 'these'],\n",
       " ['with', 'If', 'these', 'changes'],\n",
       " ['If', 'these', 'changes', 'are'],\n",
       " ['these', 'changes', 'are', 'detrimental'],\n",
       " ['changes', 'are', 'detrimental', 'the'],\n",
       " ['are', 'detrimental', 'the', 'adolescent'],\n",
       " ['detrimental', 'the', 'adolescent', 'will'],\n",
       " ['the', 'adolescent', 'will', 'be'],\n",
       " ['adolescent', 'will', 'be', 'unable'],\n",
       " ['will', 'be', 'unable', 'to'],\n",
       " ['be', 'unable', 'to', 'successfully'],\n",
       " ['unable', 'to', 'successfully', 'form'],\n",
       " ['to', 'successfully', 'form', 'his'],\n",
       " ['successfully', 'form', 'his', 'identity'],\n",
       " ['form', 'his', 'identity', 'and'],\n",
       " ['his', 'identity', 'and', 'will'],\n",
       " ['identity', 'and', 'will', 'also'],\n",
       " ['and', 'will', 'also', 'experience'],\n",
       " ['will', 'also', 'experience', 'number'],\n",
       " ['also', 'experience', 'number', 'of'],\n",
       " ['experience', 'number', 'of', 'other'],\n",
       " ['number', 'of', 'other', 'issues'],\n",
       " ['of', 'other', 'issues', 'such'],\n",
       " ['other', 'issues', 'such', 'as'],\n",
       " ['issues', 'such', 'as', 'social'],\n",
       " ['such', 'as', 'social', 'role'],\n",
       " ['as', 'social', 'role', 'disorder'],\n",
       " ['social', 'role', 'disorder', 'identity'],\n",
       " ['role', 'disorder', 'identity', 'confusion'],\n",
       " ['disorder', 'identity', 'confusion', 'or'],\n",
       " ['identity', 'confusion', 'or', 'the'],\n",
       " ['confusion', 'or', 'the', 'adoption'],\n",
       " ['or', 'the', 'adoption', 'of'],\n",
       " ['the', 'adoption', 'of', 'negative'],\n",
       " ['adoption', 'of', 'negative', 'identity'],\n",
       " ['of', 'negative', 'identity', 'which'],\n",
       " ['negative', 'identity', 'which', 'will'],\n",
       " ['identity', 'which', 'will', 'negatively'],\n",
       " ['which', 'will', 'negatively', 'affect'],\n",
       " ['will', 'negatively', 'affect', 'the'],\n",
       " ['negatively', 'affect', 'the', \"adolescent's\"],\n",
       " ['affect', 'the', \"adolescent's\", 'life'],\n",
       " ['the', \"adolescent's\", 'life', 'and'],\n",
       " [\"adolescent's\", 'life', 'and', 'future']]"
      ]
     },
     "execution_count": 6,
     "metadata": {},
     "output_type": "execute_result"
    }
   ],
   "source": [
    "res"
   ]
  },
  {
   "cell_type": "code",
   "execution_count": 7,
   "metadata": {},
   "outputs": [],
   "source": [
    "sd = \"The adolescent finds himself faced with multiple questions, contradictory demands, and ideas, which force him to deal with multiple conflicts, especially in light of physical, mental, social, psychological, emotional, and family changes. If these changes are negative, it will result in the failure of the adolescent to successfully form his identity, in addition to facing many problems such as social role disorder, identity confusion, or the adoption of negative identity, harming the adolescent's life and future.\""
   ]
  },
  {
   "cell_type": "code",
   "execution_count": 8,
   "metadata": {},
   "outputs": [
    {
     "data": {
      "text/plain": [
       "['in light of physical',\n",
       " 'If these changes are',\n",
       " 'to successfully form his',\n",
       " 'successfully form his identity',\n",
       " 'such as social role',\n",
       " 'as social role disorder',\n",
       " 'or the adoption of',\n",
       " 'the adoption of negative',\n",
       " 'adoption of negative identity',\n",
       " \"the adolescent's life and\",\n",
       " \"adolescent's life and future\"]"
      ]
     },
     "execution_count": 8,
     "metadata": {},
     "output_type": "execute_result"
    }
   ],
   "source": [
    "sd = sd.strip(string.punctuation)\n",
    "matches = []\n",
    "start = 0\n",
    "stop = len(sd)\n",
    "for r in res:\n",
    "    txt = r[0]+\" \"+r[1]+\" \"+r[2]+\" \"+r[3]\n",
    "    isThere = sd.find(txt, start, stop)\n",
    "    if isThere != -1:\n",
    "        matches.append(txt)\n",
    "matches\n",
    "# pattern = r'.\\b(?='+'|'.join(newres) + r')\\b.*'    \n",
    "# matches = re.match(pattern, sd, re.IGNORECASE)\n",
    "# matches"
   ]
  },
  {
   "cell_type": "code",
   "execution_count": 9,
   "metadata": {},
   "outputs": [],
   "source": [
    "def isCountinousSentence(seq_1, seq_2):\n",
    "    arr_1 = seq_1.split()\n",
    "    arr_2 = seq_2.split()\n",
    "    arr_1 = arr_1[-3:]\n",
    "    arr_2 = arr_2[:3]\n",
    "\n",
    "    print(\"Continous Check\")\n",
    "    print(arr_1)\n",
    "    print(arr_2)\n",
    "\n",
    "    if arr_1 == arr_2:\n",
    "        return True\n",
    "    else:\n",
    "        return False"
   ]
  },
  {
   "cell_type": "code",
   "execution_count": 10,
   "metadata": {},
   "outputs": [],
   "source": [
    "def sitchText(seq_1, seq_2):\n",
    "    print(\"Given Sequence\")\n",
    "    print(seq_1)\n",
    "    print(seq_2)\n",
    "    arr_1 = seq_1.split()\n",
    "    arr_2 = seq_2.split()\n",
    "    arr_2 = arr_2[3:]\n",
    "    print(\"Before Stich\")\n",
    "    print(arr_1)\n",
    "    print(arr_2)\n",
    "    arr = arr_1 + arr_2\n",
    "    str = ' '.join(arr)\n",
    "    return str"
   ]
  },
  {
   "cell_type": "code",
   "execution_count": 11,
   "metadata": {},
   "outputs": [
    {
     "name": "stdout",
     "output_type": "stream",
     "text": [
      "0 in light of physical\n",
      "Continous Check\n",
      "['light', 'of', 'physical']\n",
      "['If', 'these', 'changes']\n",
      "1 If these changes are\n",
      "Continous Check\n",
      "['these', 'changes', 'are']\n",
      "['to', 'successfully', 'form']\n",
      "2 to successfully form his\n",
      "Continous Check\n",
      "['successfully', 'form', 'his']\n",
      "['successfully', 'form', 'his']\n",
      "Continous Check\n",
      "['successfully', 'form', 'his']\n",
      "['successfully', 'form', 'his']\n",
      "Given Sequence\n",
      "to successfully form his\n",
      "successfully form his identity\n",
      "Before Stich\n",
      "['to', 'successfully', 'form', 'his']\n",
      "['identity']\n",
      "Continous Check\n",
      "['form', 'his', 'identity']\n",
      "['such', 'as', 'social']\n",
      "3 such as social role\n",
      "Continous Check\n",
      "['as', 'social', 'role']\n",
      "['as', 'social', 'role']\n",
      "Continous Check\n",
      "['as', 'social', 'role']\n",
      "['as', 'social', 'role']\n",
      "Given Sequence\n",
      "such as social role\n",
      "as social role disorder\n",
      "Before Stich\n",
      "['such', 'as', 'social', 'role']\n",
      "['disorder']\n",
      "Continous Check\n",
      "['social', 'role', 'disorder']\n",
      "['or', 'the', 'adoption']\n",
      "4 or the adoption of\n",
      "Continous Check\n",
      "['the', 'adoption', 'of']\n",
      "['the', 'adoption', 'of']\n",
      "Continous Check\n",
      "['the', 'adoption', 'of']\n",
      "['the', 'adoption', 'of']\n",
      "Given Sequence\n",
      "or the adoption of\n",
      "the adoption of negative\n",
      "Before Stich\n",
      "['or', 'the', 'adoption', 'of']\n",
      "['negative']\n",
      "Continous Check\n",
      "['adoption', 'of', 'negative']\n",
      "['adoption', 'of', 'negative']\n",
      "Given Sequence\n",
      "or the adoption of negative\n",
      "adoption of negative identity\n",
      "Before Stich\n",
      "['or', 'the', 'adoption', 'of', 'negative']\n",
      "['identity']\n",
      "Continous Check\n",
      "['of', 'negative', 'identity']\n",
      "['the', \"adolescent's\", 'life']\n",
      "5 the adolescent's life and\n",
      "Continous Check\n",
      "[\"adolescent's\", 'life', 'and']\n",
      "[\"adolescent's\", 'life', 'and']\n",
      "6 adolescent's life and future\n"
     ]
    }
   ],
   "source": [
    "final_matches = []\n",
    "for i, m in enumerate(matches):\n",
    "    print(i, m)\n",
    "    if matches.index(m) != len(matches)-1:\n",
    "        if isCountinousSentence(matches[i], matches[i+1]) == False:\n",
    "            final_matches.append(m)\n",
    "        else:\n",
    "            length = len(matches)\n",
    "            complete_sentence = \"\"\n",
    "            sub_list = matches[i: length-1]\n",
    "            for j, s in enumerate(sub_list):\n",
    "                if sub_list.index(m) != len(sub_list)-1:\n",
    "                    if complete_sentence == \"\":\n",
    "                        complete_sentence = sub_list[j]\n",
    "                    if isCountinousSentence(sub_list[j], sub_list[j+1]) == True:\n",
    "                        complete_sentence = sitchText(complete_sentence, sub_list[j+1])\n",
    "                        matches.remove(s)\n",
    "                    else:\n",
    "                        final_matches.append(complete_sentence)\n",
    "                        break\n"
   ]
  },
  {
   "cell_type": "code",
   "execution_count": 12,
   "metadata": {},
   "outputs": [
    {
     "data": {
      "text/plain": [
       "['in light of physical',\n",
       " 'If these changes are',\n",
       " 'to successfully form his identity',\n",
       " 'such as social role disorder',\n",
       " 'or the adoption of negative identity']"
      ]
     },
     "execution_count": 12,
     "metadata": {},
     "output_type": "execute_result"
    }
   ],
   "source": [
    "final_matches = [x for x in final_matches if x != '']\n",
    "final_matches"
   ]
  },
  {
   "cell_type": "code",
   "execution_count": 13,
   "metadata": {},
   "outputs": [
    {
     "name": "stdout",
     "output_type": "stream",
     "text": [
      "3\n"
     ]
    }
   ],
   "source": [
    "sentences = [\"Especially in light of physical, mental, social, psychological, emotional, and family changes, the teenager is forced to deal with a number of conflicts as a result of the numerous inquiries, contradicting demands, and ideas that he is presented with\", \" If these changes are detrimental, the adolescent will be unable to successfully form his identity and will also experience a number of other issues, such as social role disorder, identity confusion, or the adoption of a negative identity, which will negatively affect the adolescent's life and future.\",\" If these changes are detrimental, the adolescent will be unable to successfully form his identity and will also experience a number of other issues, such as social role disorder, identity confusion, or the adoption of a negative identity, which will negatively affect the adolescent's life and future.\"]\n",
    "print(len(sentences))"
   ]
  },
  {
   "cell_type": "code",
   "execution_count": 18,
   "metadata": {},
   "outputs": [
    {
     "name": "stdout",
     "output_type": "stream",
     "text": [
      "[]\n"
     ]
    }
   ],
   "source": []
  },
  {
   "cell_type": "code",
   "execution_count": 2,
   "metadata": {},
   "outputs": [
    {
     "ename": "NameError",
     "evalue": "name 'final_matches' is not defined",
     "output_type": "error",
     "traceback": [
      "\u001b[0;31m---------------------------------------------------------------------------\u001b[0m",
      "\u001b[0;31mNameError\u001b[0m                                 Traceback (most recent call last)",
      "\u001b[1;32m/Users/gauravrai/Desktop/SSC/WAT/test_paraphrase.ipynb Cell 13\u001b[0m in \u001b[0;36m<cell line: 1>\u001b[0;34m()\u001b[0m\n\u001b[0;32m----> <a href='vscode-notebook-cell:/Users/gauravrai/Desktop/SSC/WAT/test_paraphrase.ipynb#X24sZmlsZQ%3D%3D?line=0'>1</a>\u001b[0m \u001b[39mprint\u001b[39m(final_matches)\n",
      "\u001b[0;31mNameError\u001b[0m: name 'final_matches' is not defined"
     ]
    }
   ],
   "source": [
    "print(final_matches)"
   ]
  },
  {
   "cell_type": "code",
   "execution_count": null,
   "metadata": {},
   "outputs": [],
   "source": [
    "def direct_phrase(given_paragraph, user_paragraph):\n",
    "\n",
    "    triple_wise_list = []\n",
    "    \n",
    "    # Looping through each sentence in the given paragraph\n",
    "    for sentence in given_paragraph:\n",
    "        words  = split_into_words(sentence)\n",
    "        # Generating triplets from the consecutive words in the sentence\n",
    "        sentence_triple_list = list(map(list, zip(words, words[1:], words[2:])))\n",
    "        triple_wise_list.append(sentence_triple_list)\n",
    "\n",
    "    # Appending inner elements to the triplet list for feeding into regex function\n",
    "    triple_list = []\n",
    "    for words in triple_wise_list:\n",
    "        triple_list.append(words[0]+\" \"+words[1]+\" \"+words[2])\n",
    "\n",
    "    # Removing punctuations from the user paragraph\n",
    "    user_paragraph = user_paragraph.strip(string.punctuation)\n",
    "\n",
    "    # Regex operation to the direct phrase\n",
    "    pattern = r'.*\\b(?='+'|'.join(triple_list) + r')\\b.*'\n",
    "    matches = re.findall(pattern, user_paragraph, re.IGNORECASE)\n",
    "    return matches\n",
    "\n",
    "\n",
    "# Funtion to split the sentence into words using Regex\n",
    "def split_into_words(text):\n",
    "    rgx = re.compile(\"([\\w][\\w']*\\w)\")\n",
    "    words = rgx.findall(text)\n",
    "    return words\n",
    "        "
   ]
  },
  {
   "cell_type": "code",
   "execution_count": 11,
   "metadata": {},
   "outputs": [],
   "source": [
    "import src\n",
    "from src.paraphraser.parrot import Parrot\n",
    "from src.models import Model\n",
    "model = Model()\n",
    "parrot = Parrot(model)"
   ]
  },
  {
   "cell_type": "code",
   "execution_count": 12,
   "metadata": {},
   "outputs": [
    {
     "name": "stderr",
     "output_type": "stream",
     "text": [
      "08/04/2022 09:44:37 - INFO - happytransformer.happy_transformer -   Using model: cpu\n"
     ]
    }
   ],
   "source": [
    "#grammar corrector\n",
    "from happytransformer import TTSettings\n",
    "from happytransformer import HappyTextToText\n",
    "happy_tt = HappyTextToText(\"T5\", \"vennify/t5-base-grammar-correction\")\n",
    "beam_settings =  TTSettings(num_beams=5, min_length=1, max_length=100)"
   ]
  },
  {
   "cell_type": "code",
   "execution_count": 13,
   "metadata": {},
   "outputs": [],
   "source": [
    "sentences = [\n",
    "    \"This query has taken my invaluable time in the morning\",\n",
    "    \"The quick brown fox jumps over the lazy dog\",\n",
    "    \"He taught us how to catch errors and how not to write\",\n",
    "    \"He walked in crumbling tennis shoes and matched awkwardly like people used to in the seventies\",\n",
    "    \"The colors used in the comforter are loud and bright\"\n",
    "]"
   ]
  },
  {
   "cell_type": "code",
   "execution_count": 55,
   "metadata": {},
   "outputs": [],
   "source": [
    "def correct_grammar(sen):\n",
    "    correct_sen = happy_tt.generate_text(sen, args=beam_settings).text\n",
    "    return correct_sen"
   ]
  },
  {
   "cell_type": "code",
   "execution_count": 60,
   "metadata": {},
   "outputs": [
    {
     "name": "stdout",
     "output_type": "stream",
     "text": [
      "1: [['This question took my time in the morning.', 33], ['This question took up my precious time in the morning.', 33], ['This question took my precious time in the morning.', 32], ['This question took my valuable time in the morning.', 24], ['This question has taken my valuable time in the morning.', 19]]\n",
      "2: [['The swift brown fox jumps over the lazy dog.', 16], ['The quick brown fox leaps over the lazy dog.', 15], ['The quick brown fox jumps over the lazy dog.', 12]]\n",
      "3: [['He taught us to catch mistakes and how not to write.', 23], ['He taught us how to detect mistakes and how not to write.', 23], ['He taught us how to catch mistakes and not to write.', 23], ['He taught us how to catch errors and not write.', 19], ['He taught us how to catch errors and not to write.', 16], ['He taught us to catch errors and how not to write.', 16], ['He taught us how to catch errors and how not to write.', 12]]\n",
      "4: [[\"He walked in sloppy tennis shoes and met awkwardly the way people wore in the '70s.\", 48], ['He walked in rotten tennis shoes and fit awkwardly like people were used to in the 70s.', 38]]\n",
      "5: [['The colors in the comforter are loud and bright.', 17], ['The colours used in this comforter are loud and bright.', 15], ['The colors used in this comforter are loud and bright.', 14], ['The colors used in the comforter are loud and bright.', 12]]\n"
     ]
    }
   ],
   "source": [
    "for i, text in enumerate(sentences):\n",
    "    para_phrases = parrot.augment(input_phrase=text,\n",
    "                                  use_gpu=False,\n",
    "                                  diversity_ranker=\"levenshtein\",\n",
    "                                  do_diverse=False,\n",
    "                                  max_return_phrases=10,\n",
    "                                  max_length=32,\n",
    "                                  adequacy_threshold=0.23,\n",
    "                                  fluency_threshold=0.75)\n",
    "    para_phrases = [[correct_grammar(para_phrase[0]), para_phrase[1]]\n",
    "                    for para_phrase in para_phrases]\n",
    "    print(f\"{i + 1}:\", para_phrases)\n"
   ]
  }
 ],
 "metadata": {
  "kernelspec": {
   "display_name": "venv",
   "language": "python",
   "name": "python3"
  },
  "language_info": {
   "codemirror_mode": {
    "name": "ipython",
    "version": 3
   },
   "file_extension": ".py",
   "mimetype": "text/x-python",
   "name": "python",
   "nbconvert_exporter": "python",
   "pygments_lexer": "ipython3",
   "version": "3.8.5 (tags/v3.8.5:580fbb0, Jul 20 2020, 15:57:54) [MSC v.1924 64 bit (AMD64)]"
  },
  "orig_nbformat": 4,
  "vscode": {
   "interpreter": {
    "hash": "6ea01d57259121fd89544b2a224a73e04157c96d76db4843a18617589d14d8e7"
   }
  }
 },
 "nbformat": 4,
 "nbformat_minor": 2
}

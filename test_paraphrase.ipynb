{
 "cells": [
  {
   "cell_type": "code",
   "execution_count": 1,
   "metadata": {},
   "outputs": [
    {
     "name": "stdout",
     "output_type": "stream",
     "text": [
      "/Users/gauravrai/Desktop/SSC/WAT/src\n"
     ]
    }
   ],
   "source": [
    "\n",
    "import string\n",
    "import matplotlib.pyplot as plt\n",
    "import nltk\n",
    "import sys\n",
    "import os\n",
    "import regex as re\n",
    "import itertools\n",
    "# from nltk.corpus import stopwords\n",
    "newdir = os.path.abspath(os.path.join(os.path.dirname(\"__file__\"), './src'))\n",
    "print(newdir)\n",
    "sys.path.append(newdir)\n",
    "# nltk.download(\"stopwords\")\n"
   ]
  },
  {
   "cell_type": "code",
   "execution_count": 25,
   "metadata": {},
   "outputs": [],
   "source": [
    "rgx = re.compile(\"([\\w][\\w']*\\w)\")\n",
    "s = \"John's mom went there, but he wasn't there. So she said: 'Where are you'\"\n",
    "words = rgx.findall(s)\n",
    "count = 3"
   ]
  },
  {
   "cell_type": "code",
   "execution_count": 3,
   "metadata": {},
   "outputs": [],
   "source": [
    "lists = [words[i:i+count] for i in range(0, len(words), count)]"
   ]
  },
  {
   "cell_type": "code",
   "execution_count": 4,
   "metadata": {},
   "outputs": [
    {
     "data": {
      "text/plain": [
       "[[\"John's\", 'mom', 'went'],\n",
       " ['there', 'but', 'he'],\n",
       " [\"wasn't\", 'there', 'So'],\n",
       " ['she', 'said', 'Where'],\n",
       " ['are', 'you']]"
      ]
     },
     "execution_count": 4,
     "metadata": {},
     "output_type": "execute_result"
    }
   ],
   "source": [
    "lists"
   ]
  },
  {
   "cell_type": "code",
   "execution_count": 5,
   "metadata": {},
   "outputs": [],
   "source": [
    "res = list(map(list, zip(words, words[1:], words[2:])))"
   ]
  },
  {
   "cell_type": "code",
   "execution_count": 6,
   "metadata": {},
   "outputs": [
    {
     "data": {
      "text/plain": [
       "[[\"John's\", 'mom', 'went'],\n",
       " ['mom', 'went', 'there'],\n",
       " ['went', 'there', 'but'],\n",
       " ['there', 'but', 'he'],\n",
       " ['but', 'he', \"wasn't\"],\n",
       " ['he', \"wasn't\", 'there'],\n",
       " [\"wasn't\", 'there', 'So'],\n",
       " ['there', 'So', 'she'],\n",
       " ['So', 'she', 'said'],\n",
       " ['she', 'said', 'Where'],\n",
       " ['said', 'Where', 'are'],\n",
       " ['Where', 'are', 'you']]"
      ]
     },
     "execution_count": 6,
     "metadata": {},
     "output_type": "execute_result"
    }
   ],
   "source": [
    "res"
   ]
  },
  {
   "cell_type": "code",
   "execution_count": 7,
   "metadata": {},
   "outputs": [],
   "source": [
    "def check(sentence, words):\n",
    "    res = list(map(lambda x: all(map(lambda y:y in x.split(),\n",
    "                                          words)), sentence))\n",
    "    return [sentence[i] for i in range(0, len(res)) if res[i]]"
   ]
  },
  {
   "cell_type": "code",
   "execution_count": 13,
   "metadata": {},
   "outputs": [
    {
     "data": {
      "text/plain": [
       "[]"
      ]
     },
     "execution_count": 13,
     "metadata": {},
     "output_type": "execute_result"
    }
   ],
   "source": [
    "sentence = [\"John wasn't present when John's mother arrived\",'She then cried out',\"Where are you!\"]\n",
    "sd = \"John wasn\\'t present when John's mother arrived. She then cried out, \\\"Where are you!\\\" \"\n",
    "sd2 = \"John wasn\\'t present when John's mother arrived. She then cried out, \\\"Where are you!\\\" \""
   ]
  },
  {
   "cell_type": "code",
   "execution_count": 31,
   "metadata": {},
   "outputs": [
    {
     "data": {
      "text/plain": [
       "['John wasn\\'t present when John\\'s mother arrived. She then cried out, \"Where are you!\" ']"
      ]
     },
     "execution_count": 31,
     "metadata": {},
     "output_type": "execute_result"
    }
   ],
   "source": [
    "sd = sd.strip(string.punctuation)\n",
    "newres = []\n",
    "for r in res:\n",
    "    newres.append(r[0]+\" \"+r[1]+\" \"+r[2])\n",
    "pattern = r'.*\\b(?='+'|'.join(newres) + r')\\b.*'    \n",
    "matches = re.findall(pattern, sd, re.IGNORECASE)\n",
    "matches"
   ]
  },
  {
   "cell_type": "code",
   "execution_count": null,
   "metadata": {},
   "outputs": [],
   "source": [
    "def direct_phrase(given_paragraph, user_paragraph):\n",
    "\n",
    "    triple_wise_list = []\n",
    "    \n",
    "    # Looping through each sentence in the given paragraph\n",
    "    for sentence in given_paragraph:\n",
    "        words  = split_into_words(sentence)\n",
    "        # Generating triplets from the consecutive words in the sentence\n",
    "        sentence_triple_list = list(map(list, zip(words, words[1:], words[2:])))\n",
    "        triple_wise_list.append(sentence_triple_list)\n",
    "\n",
    "    # Appending inner elements to the triplet list for feeding into regex function\n",
    "    triple_list = []\n",
    "    for words in triple_wise_list:\n",
    "        triple_list.append(words[0]+\" \"+words[1]+\" \"+words[2])\n",
    "\n",
    "    # Removing punctuations from the user paragraph\n",
    "    user_paragraph = user_paragraph.strip(string.punctuation)\n",
    "\n",
    "    # Regex operation to the direct phrase\n",
    "    pattern = r'.*\\b(?='+'|'.join(triple_list) + r')\\b.*'\n",
    "    matches = re.findall(pattern, user_paragraph, re.IGNORECASE)\n",
    "    return matches\n",
    "\n",
    "\n",
    "# Funtion to split the sentence into words using Regex\n",
    "def split_into_words(text):\n",
    "    rgx = re.compile(\"([\\w][\\w']*\\w)\")\n",
    "    words = rgx.findall(text)\n",
    "    return words\n",
    "        "
   ]
  },
  {
   "cell_type": "code",
   "execution_count": 11,
   "metadata": {},
   "outputs": [],
   "source": [
    "import src\n",
    "from src.paraphraser.parrot import Parrot\n",
    "from src.models import Model\n",
    "model = Model()\n",
    "parrot = Parrot(model)"
   ]
  },
  {
   "cell_type": "code",
   "execution_count": 12,
   "metadata": {},
   "outputs": [
    {
     "name": "stderr",
     "output_type": "stream",
     "text": [
      "08/04/2022 09:44:37 - INFO - happytransformer.happy_transformer -   Using model: cpu\n"
     ]
    }
   ],
   "source": [
    "#grammar corrector\n",
    "from happytransformer import TTSettings\n",
    "from happytransformer import HappyTextToText\n",
    "happy_tt = HappyTextToText(\"T5\", \"vennify/t5-base-grammar-correction\")\n",
    "beam_settings =  TTSettings(num_beams=5, min_length=1, max_length=100)"
   ]
  },
  {
   "cell_type": "code",
   "execution_count": 13,
   "metadata": {},
   "outputs": [],
   "source": [
    "sentences = [\n",
    "    \"This query has taken my invaluable time in the morning\",\n",
    "    \"The quick brown fox jumps over the lazy dog\",\n",
    "    \"He taught us how to catch errors and how not to write\",\n",
    "    \"He walked in crumbling tennis shoes and matched awkwardly like people used to in the seventies\",\n",
    "    \"The colors used in the comforter are loud and bright\"\n",
    "]"
   ]
  },
  {
   "cell_type": "code",
   "execution_count": 55,
   "metadata": {},
   "outputs": [],
   "source": [
    "def correct_grammar(sen):\n",
    "    correct_sen = happy_tt.generate_text(sen, args=beam_settings).text\n",
    "    return correct_sen"
   ]
  },
  {
   "cell_type": "code",
   "execution_count": 60,
   "metadata": {},
   "outputs": [
    {
     "name": "stdout",
     "output_type": "stream",
     "text": [
      "1: [['This question took my time in the morning.', 33], ['This question took up my precious time in the morning.', 33], ['This question took my precious time in the morning.', 32], ['This question took my valuable time in the morning.', 24], ['This question has taken my valuable time in the morning.', 19]]\n",
      "2: [['The swift brown fox jumps over the lazy dog.', 16], ['The quick brown fox leaps over the lazy dog.', 15], ['The quick brown fox jumps over the lazy dog.', 12]]\n",
      "3: [['He taught us to catch mistakes and how not to write.', 23], ['He taught us how to detect mistakes and how not to write.', 23], ['He taught us how to catch mistakes and not to write.', 23], ['He taught us how to catch errors and not write.', 19], ['He taught us how to catch errors and not to write.', 16], ['He taught us to catch errors and how not to write.', 16], ['He taught us how to catch errors and how not to write.', 12]]\n",
      "4: [[\"He walked in sloppy tennis shoes and met awkwardly the way people wore in the '70s.\", 48], ['He walked in rotten tennis shoes and fit awkwardly like people were used to in the 70s.', 38]]\n",
      "5: [['The colors in the comforter are loud and bright.', 17], ['The colours used in this comforter are loud and bright.', 15], ['The colors used in this comforter are loud and bright.', 14], ['The colors used in the comforter are loud and bright.', 12]]\n"
     ]
    }
   ],
   "source": [
    "for i, text in enumerate(sentences):\n",
    "    para_phrases = parrot.augment(input_phrase=text,\n",
    "                                  use_gpu=False,\n",
    "                                  diversity_ranker=\"levenshtein\",\n",
    "                                  do_diverse=False,\n",
    "                                  max_return_phrases=10,\n",
    "                                  max_length=32,\n",
    "                                  adequacy_threshold=0.23,\n",
    "                                  fluency_threshold=0.75)\n",
    "    para_phrases = [[correct_grammar(para_phrase[0]), para_phrase[1]]\n",
    "                    for para_phrase in para_phrases]\n",
    "    print(f\"{i + 1}:\", para_phrases)\n"
   ]
  }
 ],
 "metadata": {
  "kernelspec": {
   "display_name": "Python 3.9.13 64-bit",
   "language": "python",
   "name": "python3"
  },
  "language_info": {
   "codemirror_mode": {
    "name": "ipython",
    "version": 3
   },
   "file_extension": ".py",
   "mimetype": "text/x-python",
   "name": "python",
   "nbconvert_exporter": "python",
   "pygments_lexer": "ipython3",
   "version": "3.9.13"
  },
  "orig_nbformat": 4,
  "vscode": {
   "interpreter": {
    "hash": "b0fa6594d8f4cbf19f97940f81e996739fb7646882a419484c72d19e05852a7e"
   }
  }
 },
 "nbformat": 4,
 "nbformat_minor": 2
}
